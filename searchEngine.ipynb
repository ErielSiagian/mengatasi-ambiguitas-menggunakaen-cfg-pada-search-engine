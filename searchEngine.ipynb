{
 "cells": [
  {
   "cell_type": "code",
   "execution_count": 1,
   "metadata": {},
   "outputs": [],
   "source": [
    "import requests\n",
    "from bs4 import BeautifulSoup"
   ]
  },
  {
   "cell_type": "code",
   "execution_count": 2,
   "metadata": {},
   "outputs": [],
   "source": [
    "# Make a request to the website\n",
    "r = requests.get('https://bola.kompas.com/')"
   ]
  },
  {
   "cell_type": "code",
   "execution_count": 3,
   "metadata": {},
   "outputs": [],
   "source": [
    "# Create an object to parse the HTML format\n",
    "soup = BeautifulSoup(r.content, 'html.parser')"
   ]
  },
  {
   "cell_type": "code",
   "execution_count": 4,
   "metadata": {},
   "outputs": [],
   "source": [
    "# Retrieve all popular news links (Fig. 1)\n",
    "link = []\n",
    "for i in soup.find('div', {'class':'most__wrap'}).find_all('a'):\n",
    "    i['href'] = i['href'] + '?page=all'\n",
    "    link.append(i['href'])"
   ]
  },
  {
   "cell_type": "code",
   "execution_count": 5,
   "metadata": {},
   "outputs": [],
   "source": [
    "# For each link, we retrieve paragraphs from it, combine each paragraph as one string, and save it to documents (Fig. 2)\n",
    "documents = []\n",
    "for i in link:\n",
    "    # Make a request to the link\n",
    "    r = requests.get(i)\n",
    "  \n",
    "    # Initialize BeautifulSoup object to parse the content \n",
    "    soup = BeautifulSoup(r.content, 'html.parser')\n",
    "  \n",
    "    # Retrieve all paragraphs and combine it as one\n",
    "    sen = []\n",
    "    for i in soup.find('div', {'class':'read__content'}).find_all('p'):\n",
    "        sen.append(i.text)\n",
    "  \n",
    "    # Add the combined paragraphs to documents\n",
    "    documents.append(' '.join(sen))"
   ]
  },
  {
   "cell_type": "code",
   "execution_count": 6,
   "metadata": {},
   "outputs": [],
   "source": [
    "import re\n",
    "import string\n",
    "documents_clean = []\n",
    "for d in documents:\n",
    "    # Remove Unicode\n",
    "    document_test = re.sub(r'[^\\x00-\\x7F]+', ' ', d)\n",
    "    # Remove Mentions\n",
    "    document_test = re.sub(r'@\\w+', '', document_test)\n",
    "    # Lowercase the document\n",
    "    document_test = document_test.lower()\n",
    "    # Remove punctuations\n",
    "    document_test = re.sub(r'[%s]' % re.escape(string.punctuation), ' ', document_test)\n",
    "    # Lowercase the numbers\n",
    "    document_test = re.sub(r'[0-9]', '', document_test)\n",
    "    # Remove the doubled space\n",
    "    document_test = re.sub(r'\\s{2,}', ' ', document_test)\n",
    "    documents_clean.append(document_test)"
   ]
  },
  {
   "cell_type": "code",
   "execution_count": 7,
   "metadata": {},
   "outputs": [],
   "source": [
    "from sklearn.feature_extraction.text import TfidfVectorizer\n",
    "import pandas as pd\n",
    "\n",
    "docs = documents\n",
    "# Instantiate a TfidfVectorizer object\n",
    "vectorizer = TfidfVectorizer()\n",
    "# It fits the data and transform it as a vector\n",
    "X = vectorizer.fit_transform(docs)\n",
    "# Convert the X as transposed matrix\n",
    "X = X.T.toarray()\n",
    "# Create a DataFrame and set the vocabulary as the index\n",
    "df = pd.DataFrame(X, index=vectorizer.get_feature_names())"
   ]
  },
  {
   "cell_type": "code",
   "execution_count": 8,
   "metadata": {},
   "outputs": [
    {
     "name": "stdout",
     "output_type": "stream",
     "text": [
      "query: barcelona\n",
      "Berikut artikel dengan nilai cosine similarity tertinggi: \n",
      "Nilai Similaritas: 0.2572893059052084\n",
      "KOMPAS.com - Kabar lanjutan dari grande partita  AC Milan vs  Juventus menjadi atensi dari pembaca  Bola.Kompas.com pada Kamis (7/1/2021). Bukan megabintang Cristiano Ronaldo, melainkan Sang Permata, Paulo Dybala, yang mencuri perhatian dalam kemenangan Juventus dengan skor 3-1 itu. Demikian diutarakan oleh legenda Juventus,  Alessandro Del Piero. Baca juga: Tampil Buruk Lawan AC Milan, Cristiano Ronaldo Panen Nilai 5 Lanjutan dari laga besar  AC Milan vs Juventus itu pun berlanjut terkait kinerja sang pengadil alias wasit di atas lapangan. Beberapa media Italia bahkan memberi penilaian jelek terhadap kinerja wasit asal Florence dalam partai tersebut. Adapun di luar laga dua raksasa Italia itu, di ranah Liga Spanyol, aksi Messi bersama  Barcelona kembali menjadi perhatian. Dalam kemenangan Barcelona atas Athletic Bilbao, Messi kembali membuat rekor. Berikut ini beberapa artikel yang masuk dalam daftar populer Bola.Kompas.com pada Kamis (7/1/2021): 1. Del Piero Terpukau Kilau Sang Permata Juventus Saat Lawan AC Milan Pesepak bola legendaris, Alessandro Del Piero, begitu terpukau dengan kilau Sang Permata Juventus, Paulo Dybala, saat melakoni bentrok kontra AC Milan. Juventus mengakhiri rentetan laga tanpa kalah AC Milan di San Siro, Kamis (7/1/21) dini hari WIB, dalam lanjutan pekan ke-16 kompetisi teratas Liga Italia, Serie A 2020-2021. La Joya (Sang Permata), julukan Paulo Dybala, menjadi salah satu bintang Juventus yang berkilau paling terang dalam kemenangan 3-1 yang dibawa pulang tim dari San Siro. Dybala menjadi kreator dari sepasang gol yang dicetak oleh Federico Chiesa. Assist pertama Paulo Dybala buat Chiesa terbilang cantik. Operan teknik tinggi Dybala mengecoh sejumlah pemain belakang Milan dan meloloskan Chiesa. Pesepak bola legendaris Italia dan Juventus, Alessandro Del Piero, tak menutup mata akan performa apik Dybala di laga versus AC Milan. Baca selengkapnya: Del Piero Terpukau Kilau Sang Permata Juventus Saat Lawan AC Milan AFP/MIGUEL MEDINA Wasit Massimiliano Irrati (kiri) pada laga AC Milan vs Juventus di Stadion San Siro, Rabu (6/1/2021) atau Kamis dini hari WIB.  2. Media Italia: Laga  AC Milan Vs Juventus Dirusak Wasit Kepemimpinan wasit Massimilano Irrati pada laga AC Milan vs Juventus semalam tengah menjadi sorotan. Beberapa media Italia bahkan memberi penilaian jelek terhadap kinerja wasit asal Florence dalam partai tersebut. La Gazzetta dello Sport dan Corriere dello Sport memberi nilai 4,5 untuk Irrati, sedangkan Tuttosport hanya 4. Irrati dinilai banyak membuat keputusan yang merugikan dalam grande partita pekan ke-16 Liga Italia 2020-2021 itu. Baca selengkapnya: Media Italia: Laga AC Milan Vs Juventus Dirusak Wasit AFP/ANDER GILLENEA Penyerang Barcelona Lionel Messi (tengah) berselebrasi dengan rekan setimnya setelah mencetak gol memanfaatkan umpan Pedri (merangkul, kanan) dalam laga Atheltic Bilbao vs Barcelona di Stadion San Mames di Bilbao pada 6 Januari 2021. 3. Athletic  Bilbao Vs Barcelona, 2 Gol Messi Berujung Rekor  Lionel Messi kembali mengukir rekor saat membantu Barcelona menang atas Athletic Bilbao pada laga tunda pekan kedua LaLiga, kasta tertinggi Liga Spanyol, musim 2020-2021. Duel Athletic  Bilbao vs Barcelona yang digelar di Stadion San Mames, Kamis (7/1/2021) dini hari WIB itu berakhir dengan skor 2-3. Lionel Messi menjadi bintang kemenangan Barcelona setelah dirinya mengukir brace atau dua gol. Sepasang gol dari Lionel Messi tercipta pada menit ke-38 dan 62. Baca selengkapnya: Athletic Bilbao Vs Barcelona, 2 Gol Messi Berujung Rekor\n",
      "\n",
      "Nilai Similaritas: 0.19034352725353215\n",
      "KOMPAS.com -  Pedri menjadi perbincangan hangat usai tampil apik dalam kemenangan  Barcelona 3-2 atas Athletic Bilbao. Pemain 18 tahun itu cemerlang dengan membuat satu gol dan satu assist untuk  Lionel Messi. Satu gol yang dia ciptakan tercipta pada menit ke-14 dan saat itu membuat skor imbang 1-1. Gol yang dia buat dengan tandukan langka tersebut sekaligus membuat timnya kembali termotivasi usai kebobolan pada menit ke-3. Baca juga: Juergen Klopp Diklaim Bakal Latih Barcelona Musim Depan Usai mencetak gol, Pedri melakukan hal yang umumnya dilakukan pemain lain setelah membobol gawang, yakni selebrasi. Namun, selebrasi Pedri kali ini sedikit berbeda. Dirinya berpose dengan mengacungkan tiga jari tepat di dekat Lionel Messi. Tak lama setelah laga berakhir, Pedri langsung menjelaskan maksud dari selebrasinya. Partido muy completo y tres puntazos en un gran estadio. Sigamos así????Força Barça! ????? Espero que te haya gustado el regalo de cumpleaños @Fllarenaa ????????#SigamosSoñandoJuntos #SigamosHaciendoMagia???? pic.twitter.com/6tUpiATj5h Menurut Pedri, selebrasi tersebut adalah sebuah ucapan selamat ulang tahun. Baca juga: Messi Balik ke Papan Atas Top Skor Liga Spanyol, Pemain 18 Tahun Punya Andil Selebrasi itu didedikasikan utuk rekan masa kecilnya, Fran Rodriguez. Dilansir BolaSport dari Football Espana, Pedri dan Fran memang sudah bersahabat sejak kecil. Perihal golnya ke gawang Athletic Bilbao lewat sundulan, Pedri menyebut jika golnya tersebut adalah jarang dan langka. Hal itu tentu saja didasari oleh postur tubuhnya yang hanya setinggi 174 cm, tergolong pendek bagi pemain berposisi gelandang serang. Baca juga: Bilbao Vs Barcelona, Kunci di Balik Koneksi Backheel Pedri-Messi... \"Ya, saya jarang bahkan tidak pernah mencetak gol lewat kepada dalam hidup saya. Itu sebuah gol langka,\" kata Pedri seperti dikutip dari AS. \"De Jong terlibat dalam permainan itu hingga pada akhirnya saya bisa mencetak gol,\" ujar Pedri menambahkan. Wonderkid berkebangsaan Spanyol tersebut kini mengoleksi 2 gol bersama Barcelona di  Liga Spanyol musim ini. Pedri sejauh ini telah diturunkan sebanyak 17 kali oleh Ronald Koeman di pentas Liga Spanyol dengan tampil sebagai starter sebanyak 11 kali. Baca juga: [POPULER BOLA] Ronaldo Redup, Si Permata Bersinar | Messi Lagi-lagi Rekor Barcelona sebenarnya sudah mengontrak Pedri sejak September 2019, tetapi sang pemain dipinjamkan lebih dulu ke klub asalnya, Las Palmas, selama satu musim. El Barca mengikat Si Bocah Emas dengan kontrak berdurasi tiga tahun dengan opsi perpanjangan dua tahun.\n",
      "\n"
     ]
    }
   ],
   "source": [
    "import numpy as np\n",
    "def get_similar_articles(q, df):\n",
    "  print(\"query:\", q)\n",
    "  print(\"Berikut artikel dengan nilai cosine similarity tertinggi: \")\n",
    "  # Convert the query become a vector\n",
    "  q = [q]\n",
    "  q_vec = vectorizer.transform(q).toarray().reshape(df.shape[0],)\n",
    "  sim = {}\n",
    "  # Calculate the similarity\n",
    "  for i in range(10):\n",
    "    sim[i] = np.dot(df.loc[:, i].values, q_vec) / np.linalg.norm(df.loc[:, i]) * np.linalg.norm(q_vec)\n",
    "  \n",
    "  # Sort the values \n",
    "  sim_sorted = sorted(sim.items(), key=lambda x: x[1], reverse=True)\n",
    "  # Print the articles and their similarity values\n",
    "  for k, v in sim_sorted:\n",
    "    if v != 0.0:\n",
    "      print(\"Nilai Similaritas:\", v)\n",
    "      print(docs[k])\n",
    "      print()\n",
    "# Add The Query\n",
    "q1 = 'barcelona'\n",
    "# Call the function\n",
    "get_similar_articles(q1, df)"
   ]
  },
  {
   "cell_type": "code",
   "execution_count": 28,
   "metadata": {},
   "outputs": [
    {
     "name": "stdout",
     "output_type": "stream",
     "text": [
      "Generating the first 23 sentences for demo grammar:\n",
      "['KOMPAS.com -\\xa0Kepemimpinan wasit Massimilano Irrati pada laga  AC Milan vs  Juventus semalam tengah menjadi sorotan. Beberapa media Italia bahkan memberi penilaian jelek terhadap kinerja wasit asal Florence dalam partai tersebut. La Gazzetta dello Sport dan Corriere dello Sport memberi nilai 4,5 untuk Irrati, sedangkan Tuttosport hanya 4. Irrati dinilai banyak membuat keputusan yang merugikan dalam grande partita pekan ke-16  Liga Italia 2020-2021 itu. Baca juga: Pahlawan Kemenangan Juventus atas AC Milan Mengaku Dihina oleh Wasit Kesalahan pertama Irrati adalah tidak menganulir gol pertama AC Milan yang dicetak Davide Calabria. Padahal, sebelum gol terjadi, Hakan Calhanoglu terlihat jelas melanggar Adrien Rabiot. Kedua, AC Milan seharusnya mendapat hadiah penalti pada menit-menit akhir usai Brahim Diaz dijatuhkan Rabiot. Namun, Irrati bergeming. Pengadil lapangan berusia 41 tahun itu tetap melanjutkan pertandingan. Baca juga: Chiesa Soal Gol Cantik Lawan AC Milan: Kami Sering Coba di Latihan Bukan hanya Irrati, wasit VAR Daniele Orsato juga dikecam. Dia dinilai tidak banyak membantu Irrati dalam membut keputusan. Ada satu momen ketika Rodrigo Bentancur melanggar Samu Castillejo. Bentancur dinilai pantas mendapat kartu kuning kedua saat itu, tetapi VAR tidak bekerja. Duel  AC Milan vs Juventus di San Siro, Kamis (7/1/2021) dini hari WIB, berakhir dengan skor 1-3. Satu gol AC Milan yang dilesakkan Davide Calabria dibalas tiga oleh Juventus lewat brace Federico Chiesa dan Weston McKennie. Baca juga: Del Piero Terpukau Kilau Sang Permata Juventus Saat Lawan AC Milan Hasil pertandingan tersebut menghentikan rekor tak terkalahkan AC Milan dalam 27 laga di Serie A, terhitung sejak Maret 2020 (304 hari). Meski demikian, Rossoneri masih kokoh di puncak  klasemen Liga Italia dengan koleksi 37 poin dari 16 laga. Adapun Juventus bertengger di peringkat empat klasemen dengan raihan 30 angka.', 'KOMPAS.com -  Cristiano Ronaldo tampil buruk saat  Juventus mengalahkan AC Milan. Rapor merah dengan nilai rata-rata 5 pun dialamatkan kepada pria berinisial CR7 tersebut. Tak seperti biasanya, Cristiano Ronaldo absen di daftar pencetak gol Juventus saat mengalahkan AC Milan 3-1 pada pekan ke-16 kompetisi teratas  Liga Italia,  Serie A 2020-2021, Kamis (7/1/21) dini hari WIB. Tak cuma gagal bikin gol atau assist, Ronaldo juga miskin kontribusi ofensif. CR7 hanya dua kali melepas tembakan tanpa satu pun berhasil mencapai target. Penampilan pas-pasan Ronaldo pun menjadi sasaran kritik pengamat dan media Italia. Sang penyerang asal Portugal panen rapor merah.\\xa0 “Juventus asuhan Andrea Pirlo hari ini menang tanpa Ronaldo. Salah satu laga terburuk Ronaldo sejak berkostum Juventus. Dia nyaris tidak terlihat,” kata eks pelatih Juventus, Fabio Capello, dalam program Sky Calcio Club. Baca juga: Pahlawan Kemenangan Juventus atas AC Milan Mengaku Dihina oleh Wasit Ulasan lebih sinis diberikan oleh media ternama Italia, La Gazzetta dello Sport. “Hilang dari permainan. Seringkali diabaikan oleh rekan setim. Ronaldo seharusnya yang ditarik keluar, bukan Paulo Dybala,” tulis La Gazzetta dello Sport. Penampilan Ronaldo di sepanjang laga versus AC Milan diberikan ponten 5 dari maksimal 10 oleh La Gazzetta dello Sport. Menilik konteks bahwa surat kabar berkertas jambon itu berbasis di Kota Milan, objektivitas penilaian terhadap performa Ronaldo sangat terbuka untuk diperdebatkan. Baca juga: Del Piero Terpukau Kilau Sang Permata Juventus Saat Lawan AC Milan Akan tetapi, media yang condong ke kubu La Vecchia Signora (Si Nyonya Tua), julukan Juventus, salah satunya TuttoJuve, juga memberikan rapor merah kepada Ronaldo. TuttoJuve melayangkan nilai 5,5 untuk aksi Ronaldo di laga kontra Milan. Poin serupa juga diberikan oleh Corriere della Sera. Corriere dello Sport yang bermarkas di Kota Roma, sama kejamnya dengan La Gazzetta dello Sport. Ronaldo juga hanya dihadiahi poin 5. “Absen selama 90 menit. Miskin kontribusi, fenomena yang tak seperti biasanya,” demikian bunyi ulasan Corriere della Sera. Baca juga: Chiesa Soal Gol Cantik Lawan AC Milan: Kami Sering Coba di Latihan Sementara itu, situs Tuttomercatoweb lebih bermurah hati dengan memberikan Ronaldo nilai 6. Kendati gagal memberikan kontribusi berarti, Ronaldo disebut berjasa menarik atensi bek-bek AC Milan, sehingga memunculkan ruang untuk Federico Chiesa dan Paulo Dybala. \\xa0', 'KOMPAS.com - Pahlawan kemenangan 3-1  Juventus atas AC Milan,  Federico Chiesa, merasa kena semprot kata-kata kasar sang wasit pemimpin pertandingan, Massimiliano Irrati. Laga pekan ke-16 kompetisi kasta teratas  Liga Italia,  Serie A 2020-2021,  AC Milan vs Juventus, di Stadion San Siro, Kamis (7/1/21) dini hari WIB, diwarnai tensi tinggi. Personel Juventus, termasuk Federico Chiesa mesti mengakhiri babak pertama yang berakhir imbang 1-1, dengan perasaan keki. Chiesa dkk tak terima dengan pengesahan gol balasan AC Milan oleh wasit Massimiliano Irrati. Di mata penggawa Juventus, gol penyeimbang kedudukan dari gelandang darurat AC Milan, Davide Calabria, seharusnya dianulir terkait adanya dugaan pelanggaran terhadap Adrien Rabiot. Baca juga: Del Piero Terpukau Kilau Sang Permata Juventus Saat Lawan AC Milan Proses serangan balik Milan yang berujung gol itu berawal dari Adrien Rabiot yang kehilangan bola akibat terjatuh usai terlibat kontak dengan Hakan Calhanoglu. Ketika Massimiliano Irrati meniup peluit penanda akhir interval pertama, sang wasit pun dirubung oleh pemain-pemain Juventus, Chiesa salah satunya. Dalam kronologi transkrip pembicaraan yang disiarkan oleh kanal Italia 1, Chiesa mengaku tak terima dengan Irrati yang disebut sang pemain sayap mengeluarkan kata kotor bernada menghina. “Anda menjawab dengan cara buruk. Anda mesti menunjukkan respek,” kata Chiesa kepada Irrati. Irrati lantas merespons. Sang pengadil berusia 41 tahun itu merasa tak meluncurkan kata-kata kasar kepada Chiesa. “Siapa yang menjawab dengan cara buruk, saya?” Tutur Irrati membela diri. Baca juga: AC Milan Vs Juventus, Ini 4 Kunci Kemenangan Bianconeri Versi Pirlo Pelatih Juventus,  Andrea Pirlo, langsung muncul sebagai penengah. “Fede, Fede, pergi sana,” kata Pirlo saat berupaya menghalau Chiesa dari hadapan Irrati. Pirlo tak tinggal diam dan meneruskan kegelisahan anak asuhnya kepada sang hakim lapangan hijau. Sang pelatih menyoroti keengganan Irrati untuk meninjau gol AC Milan dengan bantuan teknologi VAR (Video Assistant Referee). “Kenapa kita tidak melihat lagi kejadiannya?” Kata Pirlo kepada Irrati. Sang wasit tampak mantap dengan keputusannya dan menjawab singkat. “Itu adalah kontak biasa dalam pertandingan,” kata Irrati yang berusia identik dengan Pirlo. Kepemimpinan Irrati dalam duel AC Milan vs Juventus tak mendapatkan penilaian bagus dari sejumlah media Italia. La Gazzetta dello Sport memberikan ponten 4,5 dari maksimal 10 buat sang wasit, sementara Tuttosport memberi nilai 4.\\xa0 Beruntung bagi Juventus, mereka bisa mengakhiri laga kontra AC Milan dengan kemenangan 3-1. Gol kemenangan Juve dikontribusikan oleh Chiesa (2 gol) dan Weston McKennie. Baca juga: 3 Fakta Menarik AC Milan Vs Juventus, Laga Ke-1.000 Dinasti Maldini Berakhir Tragis Bisa dibayangkan tentang betapa dongkol perasaan personel Juve kepada Irrati andai mereka gagal meraih poin penuh. Berkat kemenangan di San Siro, Juventus dapat memangkas jarak dengan pemuncak klasemen, AC Milan, menjadi hanya tujuh angka. Patut dicatat pula bahwa Juventus bisa kian memperpendek selisih dengan Milan, asalkan Chiesa cs menang dalam satu laga tabungan kontra Napoli. \\xa0', 'KOMPAS.com - Kabar lanjutan dari grande partita  AC Milan vs  Juventus menjadi atensi dari pembaca  Bola.Kompas.com pada Kamis (7/1/2021). Bukan megabintang Cristiano Ronaldo, melainkan Sang Permata, Paulo Dybala, yang mencuri perhatian dalam kemenangan Juventus dengan skor 3-1 itu. Demikian diutarakan oleh legenda Juventus,  Alessandro Del Piero. Baca juga: Tampil Buruk Lawan AC Milan, Cristiano Ronaldo Panen Nilai 5 Lanjutan dari laga besar  AC Milan vs Juventus itu pun berlanjut terkait kinerja sang pengadil alias wasit di atas lapangan. Beberapa media Italia bahkan memberi penilaian jelek terhadap kinerja wasit asal Florence dalam partai tersebut. Adapun di luar laga dua raksasa Italia itu, di ranah Liga Spanyol, aksi Messi bersama  Barcelona kembali menjadi perhatian. Dalam kemenangan Barcelona atas Athletic Bilbao, Messi kembali membuat rekor. Berikut ini beberapa artikel yang masuk dalam daftar populer Bola.Kompas.com pada Kamis (7/1/2021): 1. Del Piero Terpukau Kilau Sang Permata Juventus Saat Lawan AC Milan Pesepak bola legendaris, Alessandro Del Piero, begitu terpukau dengan kilau Sang Permata Juventus, Paulo Dybala, saat melakoni bentrok kontra AC Milan. Juventus mengakhiri rentetan laga tanpa kalah AC Milan di San Siro, Kamis (7/1/21) dini hari WIB, dalam lanjutan pekan ke-16 kompetisi teratas Liga Italia, Serie A 2020-2021. La Joya (Sang Permata), julukan Paulo Dybala, menjadi salah satu bintang Juventus yang berkilau paling terang dalam kemenangan 3-1 yang dibawa pulang tim dari San Siro. Dybala menjadi kreator dari sepasang gol yang dicetak oleh Federico Chiesa. Assist pertama Paulo Dybala buat Chiesa terbilang cantik. Operan teknik tinggi Dybala mengecoh sejumlah pemain belakang Milan dan meloloskan Chiesa. Pesepak bola legendaris Italia dan Juventus, Alessandro Del Piero, tak menutup mata akan performa apik Dybala di laga versus AC Milan. Baca selengkapnya: Del Piero Terpukau Kilau Sang Permata Juventus Saat Lawan AC Milan AFP/MIGUEL MEDINA Wasit Massimiliano Irrati (kiri) pada laga AC Milan vs Juventus di Stadion San Siro, Rabu (6/1/2021) atau Kamis dini hari WIB.  2. Media Italia: Laga  AC Milan Vs Juventus Dirusak Wasit Kepemimpinan wasit Massimilano Irrati pada laga AC Milan vs Juventus semalam tengah menjadi sorotan. Beberapa media Italia bahkan memberi penilaian jelek terhadap kinerja wasit asal Florence dalam partai tersebut. La Gazzetta dello Sport dan Corriere dello Sport memberi nilai 4,5 untuk Irrati, sedangkan Tuttosport hanya 4. Irrati dinilai banyak membuat keputusan yang merugikan dalam grande partita pekan ke-16 Liga Italia 2020-2021 itu. Baca selengkapnya: Media Italia: Laga AC Milan Vs Juventus Dirusak Wasit AFP/ANDER GILLENEA Penyerang Barcelona Lionel Messi (tengah) berselebrasi dengan rekan setimnya setelah mencetak gol memanfaatkan umpan Pedri (merangkul, kanan) dalam laga Atheltic Bilbao vs Barcelona di Stadion San Mames di Bilbao pada 6 Januari 2021. 3. Athletic  Bilbao Vs Barcelona, 2 Gol Messi Berujung Rekor  Lionel Messi kembali mengukir rekor saat membantu Barcelona menang atas Athletic Bilbao pada laga tunda pekan kedua LaLiga, kasta tertinggi Liga Spanyol, musim 2020-2021. Duel Athletic  Bilbao vs Barcelona yang digelar di Stadion San Mames, Kamis (7/1/2021) dini hari WIB itu berakhir dengan skor 2-3. Lionel Messi menjadi bintang kemenangan Barcelona setelah dirinya mengukir brace atau dua gol. Sepasang gol dari Lionel Messi tercipta pada menit ke-38 dan 62. Baca selengkapnya: Athletic Bilbao Vs Barcelona, 2 Gol Messi Berujung Rekor', 'KOMPAS.com - Federasi  Bulu Tangkis Dunia ( BWF) mengungkap delapan pebulu tangkis Indonesia terlibat pengaturan skor. BWF melalui laman resminya mengumumkan dua kasus integritas atlet  bulu tangkis pada Jumat (8/1/2021). Kedua kasus tersebut melibatkan whistleblower yang melaporkan informasi ke BWF tentang perilaku korup termasuk memanipulasi pertandingan demi uang. Sidang kedua kasus itu telah rampung digelar pada akhir 2020. BWF menegaskan telah melibatkan berbagai pihak dalam melakukan investigasi soal kasus ini. \"Delapan pemain Indonesia yang saling mengenal dan berkompetisi di turnamen internasional level bawah di Asia hingga 2019, melanggar aturan integritas BWF terkait pengaturan pertandingan, memanipulasi pertandingan, atau taruhan bulu tangkis,\" demikian pernyataan resmi BWF. Baca juga: Terjangkit Covid-19, Ganda Campuran Inggris Ini Mundur dari Thailand Open #BWF has announced the outcomes of two #Integrity cases in #badminton. Both cases involved whistleblowers who reported information about corrupt behaviour including approaches to fix a match or to manipulate part of their match for money @iocmedia https://t.co/Mvk4vpTZ84 Kedelapan pebulu tangkis Indonesia tersebut adalah Hendra Tandjaya, Ivandi Danang, Androw Yunanto, Sekartaji Putri, Mia Mawarti, Fadilla Afni, Aditiya Dwiantoro, dan Agripinna Prima Rahmanto Putra. BWF juga mengungkapkan tiga dari delapan pemain terbukti melakukan koordinasi pengaturan skor kepada orang lain. Ketiga atlet itu, yakni Hendra Tandjaya, Ivandi Danang, dan Androw Yunanto. Sebagai akibat, ketiganya dilarang bertanding dan melakukan semua kegiatan yang berhubungan dengan bulu tangkis selamanya. Sementara itu, lima pemain lainnya dijatuhi hukuman skorsing antara enam sampai 12 tahun. Baca juga: BWF Rilis Jadwal Turnamen 2021, Indonesia Masters dan Open Berurutan Bukan hanya diskors, kelimanya masing-masing didenda antara 3000 dolar AS (sekitar 42 juta rupiah) hingga 12000 dolar AS (168 juta rupiah). Adapun, dari 8 pemain yang terlibat, nama Agripinna Prima Rahmanto Putra menjadi yang paling disorot. Dia pernah menjadi tandem Marcus Fernaldi Gideon (yang sekarang berpasangan dengan Kevin Sanjaya Sukamuljo) dan meraih prestasi pada era 2011-2012. Duet keduanya berhasil menjuarai ajang Singapura Internasional 2011 dan Iran Fajr Internasional 2012. Meski demikian, BWF memberikan hak kepada para atlet untuk mengajukan banding ke Pengadilan Arbitrase Olahraga (CAS) dalam tempo 21 hari sejak putusan tersebut. \\xa0', 'KOMPAS.com -\\xa0Kekalahan  AC Milan dari  Juventus turut meminta korban.  Hakan Calhanoglu dikabarkan cedera dan diragukan tampil saat melawan Torino. AC Milan menyerah 1-3 dari Juventus pada lanjutan pekan ke-16  Liga Italia di Stadion San Siro, Rabu (6/1/2021) atau Kamis dini hari WIB. Satu gol AC Milan yang dicetak Davide Calabria tak mampu membalas brace Faderico Chiesa dan lesakkan Weston McKennie. Kekalahan ini tak hanya menghentikan rekor unbeaten Rossoneri dalam 27 laga sebelumnya di Serie A, tetapi juga meminta \"korban\". Baca juga: Media Italia: Laga AC Milan Vs Juventus Dirusak Wasit Melansir Football Italia, Jumat (8/1/2021), MilanNews melaporkan bahawa Hakan Calhanoglu menerima cedera pada laga kontra Juve. Playmaker asal Turki itu mengalami memar di pergelangan kaki kirinya Kondisi Calhanoglu akan terus dipantau, tetapi dia diragukan tampil membela AC Milan akhir pekan ini. Pada Sabtu (9/1/2021) atau Minggu dini hari WIB, AC Milan akan menjamu tim asal Turin lainnya, Torino. Baca juga: Tampil Buruk Lawan AC Milan, Cristiano Ronaldo Panen Nilai 5 Jika Calhanoglu sampai absen, itu akan mengurangi daya gedor Il Diavolo Rosso. Pasalnya, pemain 26 tahun itu sudah menjadi nyawa di lini tengah AC Milan dengan kontribusi enam gol dan sembilan assist di semua kompetisi. Cederanya Calhanoglu juga menambah derita AC Milan yang sedang mengalami krisis dalam skuadnya. Tim asuhan Stefano Pioli itu kehilangan  Zlatan Ibrahimovic, Ismael Bennacer, Matteo Gabbia dan Alexis Saelemaekers, yang masih cedera. Baca juga: Lawan Juventus, Hakan Calhanoglu Akan Terima Penghargaan Spesial  Sementara itu, Ante Rebic dan Rade Krunic masih menjalani swakarantina usai dinyatakan positif Covid-19 beberapa jam sebelum kick-off melawan Juve. Kabar baiknya, Sandro Tonali sudah bisa bermain setelah bersih dari hukuman kartu merah yang diterimanya pada laga kontra Benevento.', ' KOMPAS.com - Pemerintah Metropolitan Tokyo telah menunda pawai obor  Olimpiade karena kekhawatiran akan penyebaran virus corona. Pawai obor  Olimpiade Tokyo sedianya dijadwalkan di sekitar ibu kota Jepang pada Kamis (7/1/2021). Namun, pemerintah setempat memutuskan untuk menunda rangkaian pameran tersebut demi mengurangi angka penyebaran Covid-19. \"Pameran obor Olimpiade Tokyo yang akan digelar di sekitar ibu kota Jepang telah ditunda untuk mengurangi kerumunan dan penyebaran Covid-19,\" demikian pernyataan yang dilansir dari Reuters. Baca juga: Olimpiade Tokyo, 6 Fakta tentang Obor Api Pawai obor Olimpiade Tokyo telah dilakukan pada akhir tahun lalu. Diberitakan KOMPAS.com sebelumnya,  obor api Olimpiade memulai perjalanan keliling Jepang pada Senin, 2 November 2020. Menurut rencana, obor api tersebut akan melalui 62 kota hingga pedesaan di Jepang. Peluncuran obor api Olimpiade akan dimulai pada 25 Maret 2021 di Fukushima dan dibawa menuju Tokyo dari 9 Juli hingga 23 Juli 2021. Pameran obor pun sedianya akan dimulai lagi pada Kamis (7/1/2021), tetapi ditunda karena Tokyo memberlakukan keadaan darurat terkait Covid-19 yang akan dimulai pada Jumat (8/1/2021). Selain Tokyo, tiga prefektur atau wilayah di Jepang juga akan menjalankan kebijakan serupa. Hal tersebut yang kemudian menyebabkan pemerintah untuk menunda semua event termasuk pameran obor sampai akhir bulan ini. Masih melansir Reuters, pemerintah Jepang memang telah mengumumkan keadaan darurat selama satu bulan guna menekan angka penyebaran virus corona. Baca juga: Olimpiade Tokyo, Ini Penegasan PM Jepang Keadaan darurat akan berlangsung mulai Jumat (8/1/2021) hingga 7 Februari di kawasan Tokyo, Saitama, Kanagawa, dan Chiba, yang mencakup sekitar 30 persen dari populasi di Jepang. Pembatasan akan berpusat pada pemberantasan penyebaran virus corona di bar dan restoran, yang menurut pemerintah setempat merupakan area dengan risiko terbesar. Meski demikian, pemerintah Jepang menegaskan pembatasan dalam keadaan darurat ini tak akan seketat yang diberlakukan secara nasional pada April dan Mei tahun lalu. Hal itu dilakukan demi mengurangi kerusakan pada ekonomi di Jepang. Adapun, Olimpiade Tokyo 2020 yang seharusnya digelar pada 24 Juli-9 Agustus 2020 ditunda menjadi 23 Juli-8 Agustus 2021.', 'KOMPAS.com - Kehadiran pelatih  Stefano Pioli di  AC Milan sangat terasa hingga awal tahun 2021. Kendati AC Milan baru saja merasakan kekalahan 1-3 dari  Juventus pada giornata 16  Liga Italia, namun hal tersebut menjadi lambang kebangkitan Rossoneri. Sebab, sejak Maret 2020 atau 27 laga di Liga Italia, AC Milan baru menelan kekalahan ketika bersua dengan Juventus di San Siro, Kamis (7/1/2021) dini hari WIB. Di sisi lain, Rossoneri saat ini masih memuncaki klasemen Liga Italia hingga giornata 16. Baca juga: AC Milan Kalah dari Juventus, Hakan Calhanoglu Ikut Tumbang Tim arahan Stefano Pioli itu memimpin klasemen dengan torehan 37 poin, unggul satu angka dari Inter Milan yang berada di posisi kedua. Banyak pihak menyebut Zlatan Ibrahimovic cs menjadi kandidat kuat dalam kejar gelar scudetto musim ini. Akan tetapi, Pioli selalu menegaskan tujuan utama mereka adalah kembali ke Liga Champions, bukan scudetto. Artinya Pioli hanya butuh finis di posisi empat besar klasemen pada akhir musim nanti. Baca juga: Media Italia: Laga AC Milan Vs Juventus Dirusak Wasit Jika gagal, mereka masih bisa berjuang dengan meraih trofi Liga Europa musim ini. Terlepas dari hal tersebut, kebangkitan Rossoneri saat ini menjadi tempat mantan Direktur AC Milan untuk cari muka. Dia adalah Massimiliano Mirabelli. Massimiliano Mirabelli berpendapat bahwa kebangkitan AC Milan tak lepas dari perekrutan pemain yang dia lakukan ketika masih berada di klub berjuluk Rossoneri itu. \"Saya senang dengan apa yang Milan sedang lakukan, apalagi kalau Anda perhatikan secara seksama, setengah dari skuad ada di sana karena hasil pekerjaan kami,\" ujar Mirabelli dikutip Football Italia. Baca juga: Tampil Buruk Lawan AC Milan, Cristiano Ronaldo Panen Nilai 5 \"Saya semakin senang bisa melihat hasil kerja keras kami.\" \"Namun, saya pikir manajemen saat ini menunda negosiasi terlalu lama untuk perpanjangan kontrak,\" ujar dia melanjutkan. Meski begitu, dia juga memuji pelatih Stefano Pioli yang bisa membangun tim AC Milan menjadi sangat kuat dan solid. \"Stefano Pioli melakukan tugasnya dengan fantastis karena dia tidak menjadikan talenta individual sebagai dasar, namun selalu memiliki tim yang terorganisir dan kompak, semuanya memiliki spirit yang sama,\" ungkap dia.', 'KOMPAS.com -  Pedri menjadi perbincangan hangat usai tampil apik dalam kemenangan  Barcelona 3-2 atas Athletic Bilbao. Pemain 18 tahun itu cemerlang dengan membuat satu gol dan satu assist untuk  Lionel Messi. Satu gol yang dia ciptakan tercipta pada menit ke-14 dan saat itu membuat skor imbang 1-1. Gol yang dia buat dengan tandukan langka tersebut sekaligus membuat timnya kembali termotivasi usai kebobolan pada menit ke-3. Baca juga: Juergen Klopp Diklaim Bakal Latih Barcelona Musim Depan Usai mencetak gol, Pedri melakukan hal yang umumnya dilakukan pemain lain setelah membobol gawang, yakni selebrasi. Namun, selebrasi Pedri kali ini sedikit berbeda. Dirinya berpose dengan mengacungkan tiga jari tepat di dekat Lionel Messi. Tak lama setelah laga berakhir, Pedri langsung menjelaskan maksud dari selebrasinya. Partido muy completo y tres puntazos en un gran estadio. Sigamos así????Força Barça! ????? Espero que te haya gustado el regalo de cumpleaños @Fllarenaa ????????#SigamosSoñandoJuntos #SigamosHaciendoMagia???? pic.twitter.com/6tUpiATj5h Menurut Pedri, selebrasi tersebut adalah sebuah ucapan selamat ulang tahun. Baca juga: Messi Balik ke Papan Atas Top Skor Liga Spanyol, Pemain 18 Tahun Punya Andil Selebrasi itu didedikasikan utuk rekan masa kecilnya, Fran Rodriguez. Dilansir BolaSport\\xa0dari Football Espana, Pedri dan Fran memang sudah bersahabat sejak kecil. Perihal golnya ke gawang Athletic Bilbao lewat sundulan, Pedri menyebut jika golnya tersebut adalah jarang dan langka. Hal itu tentu saja didasari oleh postur tubuhnya yang hanya setinggi 174 cm, tergolong pendek bagi pemain berposisi gelandang serang. Baca juga: Bilbao Vs Barcelona, Kunci di Balik Koneksi Backheel Pedri-Messi... \"Ya, saya jarang bahkan tidak pernah mencetak gol lewat kepada dalam hidup saya. Itu sebuah gol langka,\" kata Pedri seperti dikutip dari AS. \"De Jong terlibat dalam permainan itu hingga pada akhirnya saya bisa mencetak gol,\" ujar Pedri menambahkan. Wonderkid berkebangsaan Spanyol tersebut kini mengoleksi 2 gol bersama Barcelona di  Liga Spanyol musim ini. Pedri sejauh ini telah diturunkan sebanyak 17 kali oleh Ronald Koeman di pentas Liga Spanyol dengan tampil sebagai starter sebanyak 11 kali. Baca juga: [POPULER BOLA] Ronaldo Redup, Si Permata Bersinar | Messi Lagi-lagi Rekor Barcelona sebenarnya sudah mengontrak Pedri sejak September 2019, tetapi sang pemain dipinjamkan lebih dulu ke klub asalnya, Las Palmas, selama satu musim. El Barca mengikat Si Bocah Emas dengan kontrak berdurasi tiga tahun dengan opsi perpanjangan dua tahun.', 'KOMPAS.com - Kekecewaan pemain sepak bola di Indonesia soal kejelasan kompetisi semakin memuncak. Sebab, ajang sepak bola  Liga 1 di Tanah Air masih belum jelas wujud dan arahnya akibat pandemi. Hal tersebut tentu sangat mempengaruhi roda kehidupan pemain, wasit, maupun pegiat sepak bola Tanah Air. Baru-baru ini, ramai tagar #AyoMainLagi di media sosial, khususnya platform Twitter. Tagar tersebut bertujuan agar hasrat kembali bergulirnya bisa terjadi baik dari sisi pemain maupun pencinta sepak bola Indonesia. Baca juga: Jadwal Uji Coba Timnas U19 Indonesia Kacau, PSSI Beri Klarifikasi Gelandang naturalisasi  Persija Jakarta,  Marc Klok, menjadi salah satu yang mengunggah tagar #AyoMainLagi tersebut di Twitter. Dalam unggahannya dia hanya menuliskan tagar #AyoMainLagi dengan dibarengi sebuah foto yang bertuliskan: \"Membayangkan negara paling fanatis dengan sepak bola, tetapi tak memiliki kompetisi sepak bola.\" #AyoMainLagi pic.twitter.com/hElZddqzvg Seperti diketahui, seluruh ajang kompetisi olahraga di Indonesia, khususnya sepak bola, tak mendapat surat izin dari kepolisian. Baca juga: Nasib Liga 1 Buram, Manajemen Persib Pastikan Kontrak Pemain Aman Kali terakhir adanya gelaran sepak bola resmi yakni pada bulan Maret 2020. Artinya, Liga 1 telah mandeg hampir 10 bulan lamanya. Asosiasi Pesepak Bola Profesional Indonesia ( APPI) mengimbau  PSSI agar segera memutuskan status kompetisi. \"Kami telah mengirimkan Surat kepada PSSI untuk mereka segera memutuskan status keberlanjutan kompetisi apakah tetap lanjut untuk musim 2020 atau dihentikan dan dimulai musim kompetisi yang baru,\" kata Presiden APPI, Firman Utina. Baca juga: Jadwal Timnas U19 Indonesia, Uji Coba Perdana Lawan Tim Spanyol Kepastian tersebut guna mengantisipasi potensi perselisihan kontrak antara pemain dengan klub, khususnya bagi pemain yang durasi kontraknya telah usai. \"Hal ini jelas melanggar asas kebebasan berkontrak untuk melakukan perpindahan atau transfer, di mana telah tertuang dalam Regulasi FIFA yang sering disebut dengan nama Bosman Ruling,\" ujar dia. Sementara itu, pihak PSSI di bawah kepemimpinan Mochamad Iriawan sudah berusaha agar Liga 1 bisa bergulir kembali. Namun pada faktanya, PSSI terbentur dengan surat izin dari kepolisian yang tak kunjung didapatkan. Baca juga: Isu Piala Asia U19 Batal, Shin Tae-yong Siap Beri Jawaban \"Surat resmi kepada pihak kepolisian telah dilayangkan sebanyak tiga kali,\" ujar Mochamad Iriawan. \"Kini, semua berpulang kepada kepolisian. Apapun keputusan kepolisian, PSSI tunduk dan patuh,\" tandasnya.']\n"
     ]
    },
    {
     "ename": "ValueError",
     "evalue": "Unable to parse line 1: KOMPAS.com - Kepemimpinan wasit Massimilano Irrati pada laga  AC Milan vs  Juventus semalam tengah menjadi sorotan. Beberapa media Italia bahkan memberi penilaian jelek terhadap kinerja wasit asal Florence dalam partai tersebut. La Gazzetta dello Sport dan Corriere dello Sport memberi nilai 4,5 untuk Irrati, sedangkan Tuttosport hanya 4. Irrati dinilai banyak membuat keputusan yang merugikan dalam grande partita pekan ke-16  Liga Italia 2020-2021 itu. Baca juga: Pahlawan Kemenangan Juventus atas AC Milan Mengaku Dihina oleh Wasit Kesalahan pertama Irrati adalah tidak menganulir gol pertama AC Milan yang dicetak Davide Calabria. Padahal, sebelum gol terjadi, Hakan Calhanoglu terlihat jelas melanggar Adrien Rabiot. Kedua, AC Milan seharusnya mendapat hadiah penalti pada menit-menit akhir usai Brahim Diaz dijatuhkan Rabiot. Namun, Irrati bergeming. Pengadil lapangan berusia 41 tahun itu tetap melanjutkan pertandingan. Baca juga: Chiesa Soal Gol Cantik Lawan AC Milan: Kami Sering Coba di Latihan Bukan hanya Irrati, wasit VAR Daniele Orsato juga dikecam. Dia dinilai tidak banyak membantu Irrati dalam membut keputusan. Ada satu momen ketika Rodrigo Bentancur melanggar Samu Castillejo. Bentancur dinilai pantas mendapat kartu kuning kedua saat itu, tetapi VAR tidak bekerja. Duel  AC Milan vs Juventus di San Siro, Kamis (7/1/2021) dini hari WIB, berakhir dengan skor 1-3. Satu gol AC Milan yang dilesakkan Davide Calabria dibalas tiga oleh Juventus lewat brace Federico Chiesa dan Weston McKennie. Baca juga: Del Piero Terpukau Kilau Sang Permata Juventus Saat Lawan AC Milan Hasil pertandingan tersebut menghentikan rekor tak terkalahkan AC Milan dalam 27 laga di Serie A, terhitung sejak Maret 2020 (304 hari). Meski demikian, Rossoneri masih kokoh di puncak  klasemen Liga Italia dengan koleksi 37 poin dari 16 laga. Adapun Juventus bertengger di peringkat empat klasemen dengan raihan 30 angka.\nExpected an arrow",
     "output_type": "error",
     "traceback": [
      "\u001b[1;31m---------------------------------------------------------------------------\u001b[0m",
      "\u001b[1;31mValueError\u001b[0m                                Traceback (most recent call last)",
      "\u001b[1;32m~\\Anaconda3\\lib\\site-packages\\nltk\\grammar.py\u001b[0m in \u001b[0;36mread_grammar\u001b[1;34m(input, nonterm_parser, probabilistic, encoding)\u001b[0m\n\u001b[0;32m   1455\u001b[0m                 \u001b[1;31m# expand out the disjunctions on the RHS\u001b[0m\u001b[1;33m\u001b[0m\u001b[1;33m\u001b[0m\u001b[1;33m\u001b[0m\u001b[0m\n\u001b[1;32m-> 1456\u001b[1;33m                 \u001b[0mproductions\u001b[0m \u001b[1;33m+=\u001b[0m \u001b[0m_read_production\u001b[0m\u001b[1;33m(\u001b[0m\u001b[0mline\u001b[0m\u001b[1;33m,\u001b[0m \u001b[0mnonterm_parser\u001b[0m\u001b[1;33m,\u001b[0m \u001b[0mprobabilistic\u001b[0m\u001b[1;33m)\u001b[0m\u001b[1;33m\u001b[0m\u001b[1;33m\u001b[0m\u001b[0m\n\u001b[0m\u001b[0;32m   1457\u001b[0m         \u001b[1;32mexcept\u001b[0m \u001b[0mValueError\u001b[0m \u001b[1;32mas\u001b[0m \u001b[0me\u001b[0m\u001b[1;33m:\u001b[0m\u001b[1;33m\u001b[0m\u001b[1;33m\u001b[0m\u001b[0m\n",
      "\u001b[1;32m~\\Anaconda3\\lib\\site-packages\\nltk\\grammar.py\u001b[0m in \u001b[0;36m_read_production\u001b[1;34m(line, nonterm_parser, probabilistic)\u001b[0m\n\u001b[0;32m   1359\u001b[0m     \u001b[1;32mif\u001b[0m \u001b[1;32mnot\u001b[0m \u001b[0mm\u001b[0m\u001b[1;33m:\u001b[0m\u001b[1;33m\u001b[0m\u001b[1;33m\u001b[0m\u001b[0m\n\u001b[1;32m-> 1360\u001b[1;33m         \u001b[1;32mraise\u001b[0m \u001b[0mValueError\u001b[0m\u001b[1;33m(\u001b[0m\u001b[1;34m'Expected an arrow'\u001b[0m\u001b[1;33m)\u001b[0m\u001b[1;33m\u001b[0m\u001b[1;33m\u001b[0m\u001b[0m\n\u001b[0m\u001b[0;32m   1361\u001b[0m     \u001b[0mpos\u001b[0m \u001b[1;33m=\u001b[0m \u001b[0mm\u001b[0m\u001b[1;33m.\u001b[0m\u001b[0mend\u001b[0m\u001b[1;33m(\u001b[0m\u001b[1;33m)\u001b[0m\u001b[1;33m\u001b[0m\u001b[1;33m\u001b[0m\u001b[0m\n",
      "\u001b[1;31mValueError\u001b[0m: Expected an arrow",
      "\nDuring handling of the above exception, another exception occurred:\n",
      "\u001b[1;31mValueError\u001b[0m                                Traceback (most recent call last)",
      "\u001b[1;32m<ipython-input-28-d8be70c29885>\u001b[0m in \u001b[0;36m<module>\u001b[1;34m\u001b[0m\n\u001b[0;32m     79\u001b[0m \u001b[1;33m\u001b[0m\u001b[0m\n\u001b[0;32m     80\u001b[0m \u001b[1;32mif\u001b[0m \u001b[0m__name__\u001b[0m \u001b[1;33m==\u001b[0m \u001b[1;34m\"__main__\"\u001b[0m\u001b[1;33m:\u001b[0m\u001b[1;33m\u001b[0m\u001b[1;33m\u001b[0m\u001b[0m\n\u001b[1;32m---> 81\u001b[1;33m     \u001b[0mdemo\u001b[0m\u001b[1;33m(\u001b[0m\u001b[1;33m)\u001b[0m\u001b[1;33m\u001b[0m\u001b[1;33m\u001b[0m\u001b[0m\n\u001b[0m",
      "\u001b[1;32m<ipython-input-28-d8be70c29885>\u001b[0m in \u001b[0;36mdemo\u001b[1;34m(N)\u001b[0m\n\u001b[0;32m     72\u001b[0m     \u001b[0mprint\u001b[0m\u001b[1;33m(\u001b[0m\u001b[1;34m\"Generating the first %d sentences for demo grammar:\"\u001b[0m \u001b[1;33m%\u001b[0m \u001b[1;33m(\u001b[0m\u001b[0mN\u001b[0m\u001b[1;33m,\u001b[0m\u001b[1;33m)\u001b[0m\u001b[1;33m)\u001b[0m\u001b[1;33m\u001b[0m\u001b[1;33m\u001b[0m\u001b[0m\n\u001b[0;32m     73\u001b[0m     \u001b[0mprint\u001b[0m\u001b[1;33m(\u001b[0m\u001b[0mdocs\u001b[0m\u001b[1;33m)\u001b[0m\u001b[1;33m\u001b[0m\u001b[1;33m\u001b[0m\u001b[0m\n\u001b[1;32m---> 74\u001b[1;33m     \u001b[0mgrammar\u001b[0m \u001b[1;33m=\u001b[0m \u001b[0mCFG\u001b[0m\u001b[1;33m.\u001b[0m\u001b[0mfromstring\u001b[0m\u001b[1;33m(\u001b[0m\u001b[0mdocs\u001b[0m\u001b[1;33m)\u001b[0m\u001b[1;33m\u001b[0m\u001b[1;33m\u001b[0m\u001b[0m\n\u001b[0m\u001b[0;32m     75\u001b[0m     \u001b[1;32mfor\u001b[0m \u001b[0mn\u001b[0m\u001b[1;33m,\u001b[0m \u001b[0msent\u001b[0m \u001b[1;32min\u001b[0m \u001b[0menumerate\u001b[0m\u001b[1;33m(\u001b[0m\u001b[0mgenerate\u001b[0m\u001b[1;33m(\u001b[0m\u001b[0mgrammar\u001b[0m\u001b[1;33m,\u001b[0m \u001b[0mn\u001b[0m\u001b[1;33m=\u001b[0m\u001b[0mN\u001b[0m\u001b[1;33m)\u001b[0m\u001b[1;33m,\u001b[0m \u001b[1;36m1\u001b[0m\u001b[1;33m)\u001b[0m\u001b[1;33m:\u001b[0m\u001b[1;33m\u001b[0m\u001b[1;33m\u001b[0m\u001b[0m\n\u001b[0;32m     76\u001b[0m         \u001b[0mprint\u001b[0m\u001b[1;33m(\u001b[0m\u001b[1;34m\"%3d. %s\"\u001b[0m \u001b[1;33m%\u001b[0m \u001b[1;33m(\u001b[0m\u001b[0mn\u001b[0m\u001b[1;33m,\u001b[0m \u001b[1;34m\" \"\u001b[0m\u001b[1;33m.\u001b[0m\u001b[0mjoin\u001b[0m\u001b[1;33m(\u001b[0m\u001b[0msent\u001b[0m\u001b[1;33m)\u001b[0m\u001b[1;33m)\u001b[0m\u001b[1;33m)\u001b[0m\u001b[1;33m\u001b[0m\u001b[1;33m\u001b[0m\u001b[0m\n",
      "\u001b[1;32m~\\Anaconda3\\lib\\site-packages\\nltk\\grammar.py\u001b[0m in \u001b[0;36mfromstring\u001b[1;34m(cls, input, encoding)\u001b[0m\n\u001b[0;32m    564\u001b[0m         \"\"\"\n\u001b[0;32m    565\u001b[0m         start, productions = read_grammar(\n\u001b[1;32m--> 566\u001b[1;33m             \u001b[0minput\u001b[0m\u001b[1;33m,\u001b[0m \u001b[0mstandard_nonterm_parser\u001b[0m\u001b[1;33m,\u001b[0m \u001b[0mencoding\u001b[0m\u001b[1;33m=\u001b[0m\u001b[0mencoding\u001b[0m\u001b[1;33m\u001b[0m\u001b[1;33m\u001b[0m\u001b[0m\n\u001b[0m\u001b[0;32m    567\u001b[0m         )\n\u001b[0;32m    568\u001b[0m         \u001b[1;32mreturn\u001b[0m \u001b[0mcls\u001b[0m\u001b[1;33m(\u001b[0m\u001b[0mstart\u001b[0m\u001b[1;33m,\u001b[0m \u001b[0mproductions\u001b[0m\u001b[1;33m)\u001b[0m\u001b[1;33m\u001b[0m\u001b[1;33m\u001b[0m\u001b[0m\n",
      "\u001b[1;32m~\\Anaconda3\\lib\\site-packages\\nltk\\grammar.py\u001b[0m in \u001b[0;36mread_grammar\u001b[1;34m(input, nonterm_parser, probabilistic, encoding)\u001b[0m\n\u001b[0;32m   1456\u001b[0m                 \u001b[0mproductions\u001b[0m \u001b[1;33m+=\u001b[0m \u001b[0m_read_production\u001b[0m\u001b[1;33m(\u001b[0m\u001b[0mline\u001b[0m\u001b[1;33m,\u001b[0m \u001b[0mnonterm_parser\u001b[0m\u001b[1;33m,\u001b[0m \u001b[0mprobabilistic\u001b[0m\u001b[1;33m)\u001b[0m\u001b[1;33m\u001b[0m\u001b[1;33m\u001b[0m\u001b[0m\n\u001b[0;32m   1457\u001b[0m         \u001b[1;32mexcept\u001b[0m \u001b[0mValueError\u001b[0m \u001b[1;32mas\u001b[0m \u001b[0me\u001b[0m\u001b[1;33m:\u001b[0m\u001b[1;33m\u001b[0m\u001b[1;33m\u001b[0m\u001b[0m\n\u001b[1;32m-> 1458\u001b[1;33m             \u001b[1;32mraise\u001b[0m \u001b[0mValueError\u001b[0m\u001b[1;33m(\u001b[0m\u001b[1;34m'Unable to parse line %s: %s\\n%s'\u001b[0m \u001b[1;33m%\u001b[0m \u001b[1;33m(\u001b[0m\u001b[0mlinenum\u001b[0m \u001b[1;33m+\u001b[0m \u001b[1;36m1\u001b[0m\u001b[1;33m,\u001b[0m \u001b[0mline\u001b[0m\u001b[1;33m,\u001b[0m \u001b[0me\u001b[0m\u001b[1;33m)\u001b[0m\u001b[1;33m)\u001b[0m\u001b[1;33m\u001b[0m\u001b[1;33m\u001b[0m\u001b[0m\n\u001b[0m\u001b[0;32m   1459\u001b[0m \u001b[1;33m\u001b[0m\u001b[0m\n\u001b[0;32m   1460\u001b[0m     \u001b[1;32mif\u001b[0m \u001b[1;32mnot\u001b[0m \u001b[0mproductions\u001b[0m\u001b[1;33m:\u001b[0m\u001b[1;33m\u001b[0m\u001b[1;33m\u001b[0m\u001b[0m\n",
      "\u001b[1;31mValueError\u001b[0m: Unable to parse line 1: KOMPAS.com - Kepemimpinan wasit Massimilano Irrati pada laga  AC Milan vs  Juventus semalam tengah menjadi sorotan. Beberapa media Italia bahkan memberi penilaian jelek terhadap kinerja wasit asal Florence dalam partai tersebut. La Gazzetta dello Sport dan Corriere dello Sport memberi nilai 4,5 untuk Irrati, sedangkan Tuttosport hanya 4. Irrati dinilai banyak membuat keputusan yang merugikan dalam grande partita pekan ke-16  Liga Italia 2020-2021 itu. Baca juga: Pahlawan Kemenangan Juventus atas AC Milan Mengaku Dihina oleh Wasit Kesalahan pertama Irrati adalah tidak menganulir gol pertama AC Milan yang dicetak Davide Calabria. Padahal, sebelum gol terjadi, Hakan Calhanoglu terlihat jelas melanggar Adrien Rabiot. Kedua, AC Milan seharusnya mendapat hadiah penalti pada menit-menit akhir usai Brahim Diaz dijatuhkan Rabiot. Namun, Irrati bergeming. Pengadil lapangan berusia 41 tahun itu tetap melanjutkan pertandingan. Baca juga: Chiesa Soal Gol Cantik Lawan AC Milan: Kami Sering Coba di Latihan Bukan hanya Irrati, wasit VAR Daniele Orsato juga dikecam. Dia dinilai tidak banyak membantu Irrati dalam membut keputusan. Ada satu momen ketika Rodrigo Bentancur melanggar Samu Castillejo. Bentancur dinilai pantas mendapat kartu kuning kedua saat itu, tetapi VAR tidak bekerja. Duel  AC Milan vs Juventus di San Siro, Kamis (7/1/2021) dini hari WIB, berakhir dengan skor 1-3. Satu gol AC Milan yang dilesakkan Davide Calabria dibalas tiga oleh Juventus lewat brace Federico Chiesa dan Weston McKennie. Baca juga: Del Piero Terpukau Kilau Sang Permata Juventus Saat Lawan AC Milan Hasil pertandingan tersebut menghentikan rekor tak terkalahkan AC Milan dalam 27 laga di Serie A, terhitung sejak Maret 2020 (304 hari). Meski demikian, Rossoneri masih kokoh di puncak  klasemen Liga Italia dengan koleksi 37 poin dari 16 laga. Adapun Juventus bertengger di peringkat empat klasemen dengan raihan 30 angka.\nExpected an arrow"
     ]
    }
   ],
   "source": [
    "import itertools\n",
    "import sys\n",
    "from nltk.grammar import Nonterminal\n",
    "\n",
    "\n",
    "def generate(grammar, start=None, depth=None, n=None):\n",
    "    \"\"\"\n",
    "    Generates an iterator of all sentences from a CFG.\n",
    "\n",
    "    :param grammar: The Grammar used to generate sentences.\n",
    "    :param start: The Nonterminal from which to start generate sentences.\n",
    "    :param depth: The maximal depth of the generated tree.\n",
    "    :param n: The maximum number of sentences to return.\n",
    "    :return: An iterator of lists of terminal tokens.\n",
    "    \"\"\"\n",
    "    if not start:\n",
    "        start = grammar.start()\n",
    "    if depth is None:\n",
    "        depth = sys.maxsize\n",
    "\n",
    "    iter = _generate_all(grammar, [start], depth)\n",
    "\n",
    "    if n:\n",
    "        iter = itertools.islice(iter, n)\n",
    "\n",
    "    return iter\n",
    "\n",
    "\n",
    "\n",
    "def _generate_all(grammar, items, depth):\n",
    "    if items:\n",
    "        try:\n",
    "            for frag1 in _generate_one(grammar, items[0], depth):\n",
    "                for frag2 in _generate_all(grammar, items[1:], depth):\n",
    "                    yield frag1 + frag2\n",
    "        except RuntimeError as _error:\n",
    "            if _error.message == \"maximum recursion depth exceeded\":\n",
    "                # Helpful error message while still showing the recursion stack.\n",
    "                raise RuntimeError(\n",
    "                    \"The grammar has rule(s) that yield infinite recursion!!\"\n",
    "                )\n",
    "            else:\n",
    "                raise\n",
    "    else:\n",
    "        yield []\n",
    "\n",
    "\n",
    "def _generate_one(grammar, item, depth):\n",
    "    if depth > 0:\n",
    "        if isinstance(item, Nonterminal):\n",
    "            for prod in grammar.productions(lhs=item):\n",
    "                for frag in _generate_all(grammar, prod.rhs(), depth - 1):\n",
    "                    yield frag\n",
    "        else:\n",
    "            yield [item]\n",
    "\n",
    "\n",
    "demo_grammar = \"\"\"\n",
    "  S -> NP VP\n",
    "  NP -> Det N\n",
    "  PP -> P NP\n",
    "  VP -> 'mencuri' | 'memberi' NP | mengukir'' PP\n",
    "  Det -> 'sebuah' \n",
    "  N -> 'AC Milan' | 'Barcelona' | 'Juventus'\n",
    "  P -> 'yang' | 'dengan'\n",
    "\"\"\"\n",
    "\n",
    "\n",
    "def demo(N=23):\n",
    "    from nltk.grammar import CFG\n",
    "\n",
    "    print(\"Generating the first %d sentences for demo grammar:\" % (N,))\n",
    "    print(docs)\n",
    "    grammar = CFG.fromstring(docs)\n",
    "    for n, sent in enumerate(generate(grammar, n=N), 1):\n",
    "        print(\"%3d. %s\" % (n, \" \".join(sent)))\n",
    "\n",
    "\n",
    "\n",
    "if __name__ == \"__main__\":\n",
    "    demo()"
   ]
  },
  {
   "cell_type": "code",
   "execution_count": null,
   "metadata": {},
   "outputs": [],
   "source": []
  }
 ],
 "metadata": {
  "kernelspec": {
   "display_name": "Python 3",
   "language": "python",
   "name": "python3"
  },
  "language_info": {
   "codemirror_mode": {
    "name": "ipython",
    "version": 3
   },
   "file_extension": ".py",
   "mimetype": "text/x-python",
   "name": "python",
   "nbconvert_exporter": "python",
   "pygments_lexer": "ipython3",
   "version": "3.7.3"
  }
 },
 "nbformat": 4,
 "nbformat_minor": 2
}
