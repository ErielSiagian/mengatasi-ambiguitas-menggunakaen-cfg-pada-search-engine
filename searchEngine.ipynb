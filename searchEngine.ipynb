{
 "metadata": {
  "language_info": {
   "codemirror_mode": {
    "name": "ipython",
    "version": 3
   },
   "file_extension": ".py",
   "mimetype": "text/x-python",
   "name": "python",
   "nbconvert_exporter": "python",
   "pygments_lexer": "ipython3",
   "version": "3.7.3-final"
  },
  "orig_nbformat": 2,
  "kernelspec": {
   "name": "python3",
   "display_name": "Python 3"
  }
 },
 "nbformat": 4,
 "nbformat_minor": 2,
 "cells": [
  {
   "source": [
    "import requests\n",
    "from bs4 import BeautifulSoup"
   ],
   "cell_type": "code",
   "metadata": {},
   "execution_count": 1,
   "outputs": []
  },
  {
   "cell_type": "code",
   "execution_count": 2,
   "metadata": {},
   "outputs": [],
   "source": [
    "# Make a request to the website\n",
    "r = requests.get('https://bola.kompas.com/')"
   ]
  },
  {
   "cell_type": "code",
   "execution_count": 3,
   "metadata": {},
   "outputs": [],
   "source": [
    "# Create an object to parse the HTML format\n",
    "soup = BeautifulSoup(r.content, 'html.parser')"
   ]
  },
  {
   "cell_type": "code",
   "execution_count": 4,
   "metadata": {},
   "outputs": [],
   "source": [
    "# Retrieve all popular news links (Fig. 1)\n",
    "link = []\n",
    "for i in soup.find('div', {'class':'most__wrap'}).find_all('a'):\n",
    "    i['href'] = i['href'] + '?page=all'\n",
    "    link.append(i['href'])"
   ]
  },
  {
   "cell_type": "code",
   "execution_count": 5,
   "metadata": {},
   "outputs": [],
   "source": [
    "# For each link, we retrieve paragraphs from it, combine each paragraph as one string, and save it to documents (Fig. 2)\n",
    "documents = []\n",
    "for i in link:\n",
    "    # Make a request to the link\n",
    "    r = requests.get(i)\n",
    "  \n",
    "    # Initialize BeautifulSoup object to parse the content \n",
    "    soup = BeautifulSoup(r.content, 'html.parser')\n",
    "  \n",
    "    # Retrieve all paragraphs and combine it as one\n",
    "    sen = []\n",
    "    for i in soup.find('div', {'class':'read__content'}).find_all('p'):\n",
    "        sen.append(i.text)\n",
    "  \n",
    "    # Add the combined paragraphs to documents\n",
    "    documents.append(' '.join(sen))"
   ]
  },
  {
   "cell_type": "code",
   "execution_count": 7,
   "metadata": {},
   "outputs": [],
   "source": [
    "import re\n",
    "import string\n",
    "documents_clean = []\n",
    "for d in documents:\n",
    "    # Remove Unicode\n",
    "    document_test = re.sub(r'[^\\x00-\\x7F]+', ' ', d)\n",
    "    # Remove Mentions\n",
    "    document_test = re.sub(r'@\\w+', '', document_test)\n",
    "    # Lowercase the document\n",
    "    document_test = document_test.lower()\n",
    "    # Remove punctuations\n",
    "    document_test = re.sub(r'[%s]' % re.escape(string.punctuation), ' ', document_test)\n",
    "    # Lowercase the numbers\n",
    "    document_test = re.sub(r'[0-9]', '', document_test)\n",
    "    # Remove the doubled space\n",
    "    document_test = re.sub(r'\\s{2,}', ' ', document_test)\n",
    "    documents_clean.append(document_test)"
   ]
  },
  {
   "cell_type": "code",
   "execution_count": 12,
   "metadata": {},
   "outputs": [],
   "source": [
    "from sklearn.feature_extraction.text import TfidfVectorizer\n",
    "import pandas as pd\n",
    "\n",
    "docs = documents\n",
    "# Instantiate a TfidfVectorizer object\n",
    "vectorizer = TfidfVectorizer()\n",
    "# It fits the data and transform it as a vector\n",
    "X = vectorizer.fit_transform(docs)\n",
    "# Convert the X as transposed matrix\n",
    "X = X.T.toarray()\n",
    "# Create a DataFrame and set the vocabulary as the index\n",
    "df = pd.DataFrame(X, index=vectorizer.get_feature_names())"
   ]
  },
  {
   "cell_type": "code",
   "execution_count": 14,
   "metadata": {},
   "outputs": [
    {
     "output_type": "stream",
     "name": "stdout",
     "text": [
      "query: barcelona\n",
      "Berikut artikel dengan nilai cosine similarity tertinggi: \n",
      "Nilai Similaritas: 0.09524997159901508\n",
      " KOMPAS.com - Duel  Juventus vs  Dynamo Kiev tersaji dalam rangkaian matchday kelima fase grup  Liga Champions 2020-2021. Laga  Juventus vs Dynamo Kiev berlangsung di Stadion Allianz, Kamis (3/12/2020) pukul 03.00 WIB. Link  live streaming Juventus vs Dynamo Kiev tersaji di akhir artikel.  Langkah Juventus terbilang mudah saat menjamu Dynamo Kiev. Baca juga: Juventus Vs Dynamo Kiev, Si Nyonya Tua Andalkan Alvaro Morata   Pasalnya, tim asal kota Turin itu sudah memastikan diri lolos ke babak 16 besar mendampingi Barcelona.    Meski demikian, status juara Grup G masih menjadi rebutan antara Juventus dan Barcelona. Juventus yang saat ini menghuni urutan kedua dengan koleksi sembila poin, masih berpeluang untuk finis sebagai juara grup. Bianconeri terpaut tiga angka dari Barcelona yang bertengger di puncak klasemen. Memetik tiga poin saat menjamu Dynamo Kiev sangat penting bagi Juventus jika ingin keluar sebagai juara grup.  Pelatih Juventus, Andrea Pirlo, pun menargetkan timnya mengemas kemenangan atas Dynamo Kiev. \"Kami harus menghadapi semua pertandingan dengan cara yang sama, baik di Eropa maupun di Italia,\" kata Andrea Pirlo dilansir dari laman resmi klub. \"Saya lebih suka tim memiliki lebih banyak konsisteni, tetapi itu normal bahwa dibutuhkan banyak waktu untuk mencapainya.\" \"Para pemain tahu apa yang harus dan ingin mereka lakukan. Ketika Anda menang, semuanya baik-baik saja. Jika sebaliknya, masalah yang tidak ada bahkan bisa muncul. Kami bekerja untuk meningkatkan permainan tim,\" ujar Pirlo.  Baca juga: Jadi Sasaran Kritik Jelang Juventus Vs Dynamo Kiev, Andrea Pirlo Santai Bukan tak mungkin Juventus bisa menaklukkan Dynamo Kiev pada pertandingan ini. Pada pertemuan pertama di kandang Dynamo Kiev, Juventus sukses meraih kemenangan 2-0.  Kala itu, Alvaro Morata menjadi pahlawan Juventus dengan memborong dua gol. Pertandingan Juventus vs Dynamo Kiev bisa disaksikan melalui tayangan live streaming di Vidio.com. Berikut  link live streaming Juventus vs Dynamo Kiev: klik di sini.\n",
      "\n",
      "Nilai Similaritas: 0.03130825272961334\n",
      "KOMPAS.com - Penyerang legendaris Brasil,  Ronaldo, mengungkapkan alasan mengapa  Diego Maradona kerap terlihat memakai dua jam tangan. Diego Maradona yang meninggal pada Rabu (25/11/2020) akibat gangguan jantung menyisakan banyak cerita menarik. Salah satu sisi unik legenda sepak bola  Argentina dan dewa klub Napoli itu adalah ia sering mengenakan dua buah jam tangan. Pemandangan itu terlihat pada beberapa kesempatan, termasuk saat Maradona menukangi timnas Argentina pada Piala Dunia 2010 di Afrika Selatan. Lantas, mengapa Diego Maradona memakai dua jam tangan? Baca juga: Profil Diego Maradona, Pahlawan Argentina di Piala Dunia 1986 dan Dewa Klub Napoli Ronaldo menceritakan, Maradona kerap mengenakan dua jam tangan karena itu merupakan hadiah dari putrinya. \"Salah satu pertemuan kami adalah ketika dia (Maradona) mengunjungi saya di Madrid, lalu kami makan malam bersama,\" ungkap Ronaldo dikutip dari Sport Bible, Rabu (2/12/2020). \"Diego memakai dua jam tangan dan dia mengatakan bahwa dia tidak akan pergi ke mana pun tanpa keduanya,\" imbuh pemilik nama lengkap Ronaldo Luis Nazario de Lima tersebut. \"Saya bertanya kepadanya mengapa dia memakai dua (jam tangan)\" tutur Ronaldo. \"Dia berkata bahwa putrinya telah memberikannya sebagai hadiah dan sejak itu dia tidak pernah melepasnya,\" ujar eks pemain Inter Milan dan Real Madrid itu. Baca juga: Gara-gara Selebrasi Messi untuk Maradona, Barcelona Terancam Denda Rp 50 Juta Setelah makan malam, Maradona berniat memberikan salah satu jam tangan yang ia pakai kepada Ronaldo. Ronaldo menolaknya, tetapi hal ini justru membuat Maradona marah. \"Ketika selesai makan, dia melepas salah satunya dan memberikan kepada saya sebagai hadiah. Saya tidak mau menerimanya, tetapi dia marah sehingga saya tidak punya pilihan,\" kata Ronaldo. \"Saya akan menjaganya selama hidup saya sebagai pengingat kemurahan hatinya dan persahabatan kami,\" ucap striker yang pada masa jayanya dijuluki Sang Fenomena tersebut. Baca juga: Soal Hasrat terhadap Sepak Bola, Maradona Masih di Atas Ronaldo dan Messi Ronaldo pun mengaku sangat sedih mendengar kabar meninggalnya Diego Maradona. \"Diego meninggalkan warisan yang luar biasa dalam sepak bola. Kehilangan dirinya sangat sulit utuk diterima,\" kata Ronaldo. \"Berita itu mengejutkan saya dan membuat saya sangat sedih,\" ucap Ronaldo mengakhiri. A post shared by Ronaldo (@ronaldo)\n",
      "\n"
     ]
    }
   ],
   "source": [
    "import numpy as np\n",
    "def get_similar_articles(q, df):\n",
    "  print(\"query:\", q)\n",
    "  print(\"Berikut artikel dengan nilai cosine similarity tertinggi: \")\n",
    "  # Convert the query become a vector\n",
    "  q = [q]\n",
    "  q_vec = vectorizer.transform(q).toarray().reshape(df.shape[0],)\n",
    "  sim = {}\n",
    "  # Calculate the similarity\n",
    "  for i in range(10):\n",
    "    sim[i] = np.dot(df.loc[:, i].values, q_vec) / np.linalg.norm(df.loc[:, i]) * np.linalg.norm(q_vec)\n",
    "  \n",
    "  # Sort the values \n",
    "  sim_sorted = sorted(sim.items(), key=lambda x: x[1], reverse=True)\n",
    "  # Print the articles and their similarity values\n",
    "  for k, v in sim_sorted:\n",
    "    if v != 0.0:\n",
    "      print(\"Nilai Similaritas:\", v)\n",
    "      print(docs[k])\n",
    "      print()\n",
    "# Add The Query\n",
    "q1 = 'barcelona'\n",
    "# Call the function\n",
    "get_similar_articles(q1, df)"
   ]
  },
  {
   "cell_type": "code",
   "execution_count": null,
   "metadata": {},
   "outputs": [],
   "source": []
  }
 ]
}