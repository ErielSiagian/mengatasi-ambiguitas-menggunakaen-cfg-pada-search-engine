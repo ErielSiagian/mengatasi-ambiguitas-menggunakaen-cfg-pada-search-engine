{
 "cells": [
  {
   "cell_type": "code",
   "execution_count": 1,
   "metadata": {},
   "outputs": [],
   "source": [
    "import requests\n",
    "from bs4 import BeautifulSoup"
   ]
  },
  {
   "cell_type": "code",
   "execution_count": 2,
   "metadata": {},
   "outputs": [],
   "source": [
    "# Make a request to the website\n",
    "r = requests.get('https://bola.kompas.com/')"
   ]
  },
  {
   "cell_type": "code",
   "execution_count": 3,
   "metadata": {},
   "outputs": [],
   "source": [
    "# Create an object to parse the HTML format\n",
    "soup = BeautifulSoup(r.content, 'html.parser')"
   ]
  },
  {
   "cell_type": "code",
   "execution_count": 4,
   "metadata": {},
   "outputs": [],
   "source": [
    "# Retrieve all popular news links (Fig. 1)\n",
    "link = []\n",
    "for i in soup.find('div', {'class':'most__wrap'}).find_all('a'):\n",
    "    i['href'] = i['href'] + '?page=all'\n",
    "    link.append(i['href'])"
   ]
  },
  {
   "cell_type": "code",
   "execution_count": 5,
   "metadata": {},
   "outputs": [],
   "source": [
    "# For each link, we retrieve paragraphs from it, combine each paragraph as one string, and save it to documents (Fig. 2)\n",
    "documents = []\n",
    "for i in link:\n",
    "    # Make a request to the link\n",
    "    r = requests.get(i)\n",
    "  \n",
    "    # Initialize BeautifulSoup object to parse the content \n",
    "    soup = BeautifulSoup(r.content, 'html.parser')\n",
    "  \n",
    "    # Retrieve all paragraphs and combine it as one\n",
    "    sen = []\n",
    "    for i in soup.find('div', {'class':'read__content'}).find_all('p'):\n",
    "        sen.append(i.text)\n",
    "  \n",
    "    # Add the combined paragraphs to documents\n",
    "    documents.append(' '.join(sen))"
   ]
  },
  {
   "cell_type": "code",
   "execution_count": 6,
   "metadata": {},
   "outputs": [],
   "source": [
    "import re\n",
    "import string\n",
    "documents_clean = []\n",
    "for d in documents:\n",
    "    # Remove Unicode\n",
    "    document_test = re.sub(r'[^\\x00-\\x7F]+', ' ', d)\n",
    "    # Remove Mentions\n",
    "    document_test = re.sub(r'@\\w+', '', document_test)\n",
    "    # Lowercase the document\n",
    "    document_test = document_test.lower()\n",
    "    # Remove punctuations\n",
    "    document_test = re.sub(r'[%s]' % re.escape(string.punctuation), ' ', document_test)\n",
    "    # Lowercase the numbers\n",
    "    document_test = re.sub(r'[0-9]', '', document_test)\n",
    "    # Remove the doubled space\n",
    "    document_test = re.sub(r'\\s{2,}', ' ', document_test)\n",
    "    documents_clean.append(document_test)"
   ]
  },
  {
   "cell_type": "code",
   "execution_count": 7,
   "metadata": {},
   "outputs": [],
   "source": [
    "from sklearn.feature_extraction.text import TfidfVectorizer\n",
    "import pandas as pd\n",
    "\n",
    "docs = documents\n",
    "# Instantiate a TfidfVectorizer object\n",
    "vectorizer = TfidfVectorizer()\n",
    "# It fits the data and transform it as a vector\n",
    "X = vectorizer.fit_transform(docs)\n",
    "# Convert the X as transposed matrix\n",
    "X = X.T.toarray()\n",
    "# Create a DataFrame and set the vocabulary as the index\n",
    "df = pd.DataFrame(X, index=vectorizer.get_feature_names())"
   ]
  },
  {
   "cell_type": "code",
   "execution_count": 8,
   "metadata": {},
   "outputs": [
    {
     "name": "stdout",
     "output_type": "stream",
     "text": [
      "query: barcelona\n",
      "Berikut artikel dengan nilai cosine similarity tertinggi: \n",
      "Nilai Similaritas: 0.2572893059052084\n",
      "KOMPAS.com - Kabar lanjutan dari grande partita  AC Milan vs  Juventus menjadi atensi dari pembaca  Bola.Kompas.com pada Kamis (7/1/2021). Bukan megabintang Cristiano Ronaldo, melainkan Sang Permata, Paulo Dybala, yang mencuri perhatian dalam kemenangan Juventus dengan skor 3-1 itu. Demikian diutarakan oleh legenda Juventus,  Alessandro Del Piero. Baca juga: Tampil Buruk Lawan AC Milan, Cristiano Ronaldo Panen Nilai 5 Lanjutan dari laga besar  AC Milan vs Juventus itu pun berlanjut terkait kinerja sang pengadil alias wasit di atas lapangan. Beberapa media Italia bahkan memberi penilaian jelek terhadap kinerja wasit asal Florence dalam partai tersebut. Adapun di luar laga dua raksasa Italia itu, di ranah Liga Spanyol, aksi Messi bersama  Barcelona kembali menjadi perhatian. Dalam kemenangan Barcelona atas Athletic Bilbao, Messi kembali membuat rekor. Berikut ini beberapa artikel yang masuk dalam daftar populer Bola.Kompas.com pada Kamis (7/1/2021): 1. Del Piero Terpukau Kilau Sang Permata Juventus Saat Lawan AC Milan Pesepak bola legendaris, Alessandro Del Piero, begitu terpukau dengan kilau Sang Permata Juventus, Paulo Dybala, saat melakoni bentrok kontra AC Milan. Juventus mengakhiri rentetan laga tanpa kalah AC Milan di San Siro, Kamis (7/1/21) dini hari WIB, dalam lanjutan pekan ke-16 kompetisi teratas Liga Italia, Serie A 2020-2021. La Joya (Sang Permata), julukan Paulo Dybala, menjadi salah satu bintang Juventus yang berkilau paling terang dalam kemenangan 3-1 yang dibawa pulang tim dari San Siro. Dybala menjadi kreator dari sepasang gol yang dicetak oleh Federico Chiesa. Assist pertama Paulo Dybala buat Chiesa terbilang cantik. Operan teknik tinggi Dybala mengecoh sejumlah pemain belakang Milan dan meloloskan Chiesa. Pesepak bola legendaris Italia dan Juventus, Alessandro Del Piero, tak menutup mata akan performa apik Dybala di laga versus AC Milan. Baca selengkapnya: Del Piero Terpukau Kilau Sang Permata Juventus Saat Lawan AC Milan AFP/MIGUEL MEDINA Wasit Massimiliano Irrati (kiri) pada laga AC Milan vs Juventus di Stadion San Siro, Rabu (6/1/2021) atau Kamis dini hari WIB.  2. Media Italia: Laga  AC Milan Vs Juventus Dirusak Wasit Kepemimpinan wasit Massimilano Irrati pada laga AC Milan vs Juventus semalam tengah menjadi sorotan. Beberapa media Italia bahkan memberi penilaian jelek terhadap kinerja wasit asal Florence dalam partai tersebut. La Gazzetta dello Sport dan Corriere dello Sport memberi nilai 4,5 untuk Irrati, sedangkan Tuttosport hanya 4. Irrati dinilai banyak membuat keputusan yang merugikan dalam grande partita pekan ke-16 Liga Italia 2020-2021 itu. Baca selengkapnya: Media Italia: Laga AC Milan Vs Juventus Dirusak Wasit AFP/ANDER GILLENEA Penyerang Barcelona Lionel Messi (tengah) berselebrasi dengan rekan setimnya setelah mencetak gol memanfaatkan umpan Pedri (merangkul, kanan) dalam laga Atheltic Bilbao vs Barcelona di Stadion San Mames di Bilbao pada 6 Januari 2021. 3. Athletic  Bilbao Vs Barcelona, 2 Gol Messi Berujung Rekor  Lionel Messi kembali mengukir rekor saat membantu Barcelona menang atas Athletic Bilbao pada laga tunda pekan kedua LaLiga, kasta tertinggi Liga Spanyol, musim 2020-2021. Duel Athletic  Bilbao vs Barcelona yang digelar di Stadion San Mames, Kamis (7/1/2021) dini hari WIB itu berakhir dengan skor 2-3. Lionel Messi menjadi bintang kemenangan Barcelona setelah dirinya mengukir brace atau dua gol. Sepasang gol dari Lionel Messi tercipta pada menit ke-38 dan 62. Baca selengkapnya: Athletic Bilbao Vs Barcelona, 2 Gol Messi Berujung Rekor\n",
      "\n",
      "Nilai Similaritas: 0.19034352725353215\n",
      "KOMPAS.com -  Pedri menjadi perbincangan hangat usai tampil apik dalam kemenangan  Barcelona 3-2 atas Athletic Bilbao. Pemain 18 tahun itu cemerlang dengan membuat satu gol dan satu assist untuk  Lionel Messi. Satu gol yang dia ciptakan tercipta pada menit ke-14 dan saat itu membuat skor imbang 1-1. Gol yang dia buat dengan tandukan langka tersebut sekaligus membuat timnya kembali termotivasi usai kebobolan pada menit ke-3. Baca juga: Juergen Klopp Diklaim Bakal Latih Barcelona Musim Depan Usai mencetak gol, Pedri melakukan hal yang umumnya dilakukan pemain lain setelah membobol gawang, yakni selebrasi. Namun, selebrasi Pedri kali ini sedikit berbeda. Dirinya berpose dengan mengacungkan tiga jari tepat di dekat Lionel Messi. Tak lama setelah laga berakhir, Pedri langsung menjelaskan maksud dari selebrasinya. Partido muy completo y tres puntazos en un gran estadio. Sigamos así????Força Barça! ????? Espero que te haya gustado el regalo de cumpleaños @Fllarenaa ????????#SigamosSoñandoJuntos #SigamosHaciendoMagia???? pic.twitter.com/6tUpiATj5h Menurut Pedri, selebrasi tersebut adalah sebuah ucapan selamat ulang tahun. Baca juga: Messi Balik ke Papan Atas Top Skor Liga Spanyol, Pemain 18 Tahun Punya Andil Selebrasi itu didedikasikan utuk rekan masa kecilnya, Fran Rodriguez. Dilansir BolaSport dari Football Espana, Pedri dan Fran memang sudah bersahabat sejak kecil. Perihal golnya ke gawang Athletic Bilbao lewat sundulan, Pedri menyebut jika golnya tersebut adalah jarang dan langka. Hal itu tentu saja didasari oleh postur tubuhnya yang hanya setinggi 174 cm, tergolong pendek bagi pemain berposisi gelandang serang. Baca juga: Bilbao Vs Barcelona, Kunci di Balik Koneksi Backheel Pedri-Messi... \"Ya, saya jarang bahkan tidak pernah mencetak gol lewat kepada dalam hidup saya. Itu sebuah gol langka,\" kata Pedri seperti dikutip dari AS. \"De Jong terlibat dalam permainan itu hingga pada akhirnya saya bisa mencetak gol,\" ujar Pedri menambahkan. Wonderkid berkebangsaan Spanyol tersebut kini mengoleksi 2 gol bersama Barcelona di  Liga Spanyol musim ini. Pedri sejauh ini telah diturunkan sebanyak 17 kali oleh Ronald Koeman di pentas Liga Spanyol dengan tampil sebagai starter sebanyak 11 kali. Baca juga: [POPULER BOLA] Ronaldo Redup, Si Permata Bersinar | Messi Lagi-lagi Rekor Barcelona sebenarnya sudah mengontrak Pedri sejak September 2019, tetapi sang pemain dipinjamkan lebih dulu ke klub asalnya, Las Palmas, selama satu musim. El Barca mengikat Si Bocah Emas dengan kontrak berdurasi tiga tahun dengan opsi perpanjangan dua tahun.\n",
      "\n"
     ]
    }
   ],
   "source": [
    "import numpy as np\n",
    "def get_similar_articles(q, df):\n",
    "  print(\"query:\", q)\n",
    "  print(\"Berikut artikel dengan nilai cosine similarity tertinggi: \")\n",
    "  # Convert the query become a vector\n",
    "  q = [q]\n",
    "  q_vec = vectorizer.transform(q).toarray().reshape(df.shape[0],)\n",
    "  sim = {}\n",
    "  # Calculate the similarity\n",
    "  for i in range(10):\n",
    "    sim[i] = np.dot(df.loc[:, i].values, q_vec) / np.linalg.norm(df.loc[:, i]) * np.linalg.norm(q_vec)\n",
    "  \n",
    "  # Sort the values \n",
    "  sim_sorted = sorted(sim.items(), key=lambda x: x[1], reverse=True)\n",
    "  # Print the articles and their similarity values\n",
    "  for k, v in sim_sorted:\n",
    "    if v != 0.0:\n",
    "      print(\"Nilai Similaritas:\", v)\n",
    "      print(docs[k])\n",
    "      print()\n",
    "# Add The Query\n",
    "q1 = 'barcelona'\n",
    "# Call the function\n",
    "get_similar_articles(q1, df)"
   ]
  },
  {
   "cell_type": "code",
   "execution_count": 9,
   "metadata": {},
   "outputs": [
    {
     "name": "stdout",
     "output_type": "stream",
     "text": [
      "Grammar with 13 productions (start state = S)\n",
      "    S -> NP VP\n",
      "    NP -> Det N\n",
      "    PP -> P NP\n",
      "    VP -> 'slept'\n",
      "    VP -> 'saw' NP\n",
      "    VP -> 'walked' PP\n",
      "    Det -> 'the'\n",
      "    Det -> 'a'\n",
      "    N -> 'man'\n",
      "    N -> 'park'\n",
      "    N -> 'dog'\n",
      "    P -> 'in'\n",
      "    P -> 'with'\n"
     ]
    }
   ],
   "source": [
    "from nltk.parse.generate import generate, demo_grammar\n",
    "from nltk import CFG\n",
    "grammar = CFG.fromstring(demo_grammar)\n",
    "print(grammar)"
   ]
  },
  {
   "cell_type": "code",
   "execution_count": 10,
   "metadata": {},
   "outputs": [
    {
     "name": "stdout",
     "output_type": "stream",
     "text": [
      "the man slept\n",
      "the man saw the man\n",
      "the man saw the park\n",
      "the man saw the dog\n",
      "the man saw a man\n",
      "the man saw a park\n",
      "the man saw a dog\n",
      "the man walked in the man\n",
      "the man walked in the park\n",
      "the man walked in the dog\n"
     ]
    }
   ],
   "source": [
    "for sentence in generate(grammar, n=10):\n",
    "    print(' '.join(sentence))"
   ]
  },
  {
   "cell_type": "code",
   "execution_count": 11,
   "metadata": {},
   "outputs": [
    {
     "name": "stdout",
     "output_type": "stream",
     "text": [
      "the man slept\n",
      "the park slept\n",
      "the dog slept\n",
      "a man slept\n",
      "a park slept\n",
      "a dog slept\n"
     ]
    }
   ],
   "source": [
    "for sentence in generate(grammar, depth=4):\n",
    "    print(' '.join(sentence))"
   ]
  },
  {
   "cell_type": "code",
   "execution_count": null,
   "metadata": {},
   "outputs": [],
   "source": []
  }
 ],
 "metadata": {
  "kernelspec": {
   "display_name": "Python 3",
   "language": "python",
   "name": "python3"
  },
  "language_info": {
   "codemirror_mode": {
    "name": "ipython",
    "version": 3
   },
   "file_extension": ".py",
   "mimetype": "text/x-python",
   "name": "python",
   "nbconvert_exporter": "python",
   "pygments_lexer": "ipython3",
   "version": "3.7.3"
  }
 },
 "nbformat": 4,
 "nbformat_minor": 2
}
